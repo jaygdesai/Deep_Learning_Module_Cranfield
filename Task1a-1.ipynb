{
  "nbformat": 4,
  "nbformat_minor": 0,
  "metadata": {
    "colab": {
      "provenance": [],
      "authorship_tag": "ABX9TyMfeERQ37zNS0YM/QHBBtho"
    },
    "kernelspec": {
      "name": "python3",
      "display_name": "Python 3"
    },
    "language_info": {
      "name": "python"
    }
  },
  "cells": [
    {
      "cell_type": "code",
      "execution_count": null,
      "metadata": {
        "id": "lKKUZmDZ6hmh"
      },
      "outputs": [],
      "source": []
    }
  ]
}